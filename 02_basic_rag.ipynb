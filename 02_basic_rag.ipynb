{
 "cells": [
  {
   "cell_type": "code",
   "execution_count": 22,
   "id": "fe125bbf",
   "metadata": {},
   "outputs": [],
   "source": [
    "!pip install -q ollama==0.2.1\n",
    "# !pixi add --pypi ollama"
   ]
  },
  {
   "cell_type": "code",
   "execution_count": 25,
   "id": "5e239fbc",
   "metadata": {},
   "outputs": [
    {
     "name": "stdout",
     "output_type": "stream",
     "text": [
      "Title: Risk of Nonarteritic Anterior Ischemic Optic Neuropathy in Patients Prescribed Semaglutide\n",
      "Key point: Question: Are prescriptions for semaglutide associated with an increased risk of nonarteritic anterior ischemic optic neuropathy (NAION) in patients with type 2 diabetes or patients who are overweight or obese?\n",
      "\n",
      "Findings: This matched cohort study of 16 827 patients revealed higher risk of NAION in patients prescribed semaglutide compared with patients prescribed non–glucagon-like peptide receptor agonist medications for diabetes or obesity.\n",
      "\n",
      "Meaning: The findings suggest a potential risk of NAION associated with prescriptions for semaglutide, but future study is required to assess causality.\n",
      "Abstract: Importance: Anecdotal experience raised the possibility that semaglutide, a glucagon-like peptide 1 receptor agonist (GLP-1 RA) with rapidly increasing use, is associated with nonarteritic anterior ischemic optic neuropathy (NAION).\n",
      "\n",
      "Objective: To investigate whether there is an association between semaglutide and risk of NAION.\n",
      "\n",
      "Design, Setting, and Participants: In a retrospective matched cohort study using data from a centralized data registry of patients evaluated by neuro-ophthalmologists at 1 academic institution from December 1, 2017, through November 30, 2023, a search for International Statistical Classification of Diseases and Related Health Problems, Tenth Revision code H47.01 (ischemic optic neuropathy) and text search yielded 16 827 patients with no history of NAION. Propensity matching was used to assess whether prescribed semaglutide was associated with NAION in patients with type 2 diabetes (T2D) or overweight/obesity, in each case accounting for covarying factors (sex, age, systemic hypertension, T2D, obstructive sleep apnea, obesity, hyperlipidemia, and coronary artery disease) and contraindications for use of semaglutide. The cumulative incidence of NAION was determined with the Kaplan-Meier method and a Cox proportional hazards regression model adjusted for potential confounding comorbidities. Data were analyzed from December 1, 2017, through November 30, 2023.\n",
      "\n",
      "Exposures: Prescriptions for semaglutide vs non–GLP-1 RA medications to manage either T2D or weight.\n",
      "\n",
      "Main Outcomes and Measures: Cumulative incidence and hazard ratio of NAION.\n",
      "\n",
      "Results: Among 16 827 patients, 710 had T2D (194 prescribed semaglutide; 516 prescribed non–GLP-1 RA antidiabetic medications; median [IQR] age, 59 [49-68] years; 369 [52%] female) and 979 were overweight or obese (361 prescribed semaglutide; 618 prescribed non–GLP-1 RA weight-loss medications; median [IQR] age, 47 [32-59] years; 708 [72%] female). In the population with T2D, 17 NAION events occurred in patients prescribed semaglutide vs 6 in the non–GLP-1 RA antidiabetes cohort. The cumulative incidence of NAION for the semaglutide and non–GLP-1 RA cohorts over 36 months was 8.9% (95% CI, 4.5%-13.1%) and 1.8% (95% CI, 0%-3.5%), respectively. A Cox proportional hazards regression model showed higher risk of NAION for patients receiving semaglutide (hazard ratio [HR], 4.28; 95% CI, 1.62-11.29); P < .001). In the population of patients who were overweight or obese, 20 NAION events occurred in the prescribed semaglutide cohort vs 3 in the non–GLP-1 RA cohort. The cumulative incidence of NAION for the semaglutide vs non–GLP-1 RA cohorts over 36 months was 6.7% (95% CI, 3.6%-9.7%) and 0.8% (95% CI, 0%-1.8%), respectively. A Cox proportional hazards regression model showed a higher risk of NAION for patients prescribed semaglutide (HR, 7.64; 95% CI, 2.21-26.36; P < .001).\n",
      "\n",
      "Conclusions and Relevance: This study’s findings suggest an association between semaglutide and NAION. As this was an observational study, future study is required to assess causality.\n"
     ]
    }
   ],
   "source": [
    "# Reference: https://jamanetwork.com/journals/jamaophthalmology/article-abstract/2820255\n",
    "\n",
    "title = \"Risk of Nonarteritic Anterior Ischemic Optic Neuropathy in Patients Prescribed Semaglutide\"\n",
    "\n",
    "key_points = \"\"\"Question: Are prescriptions for semaglutide associated with an increased risk of nonarteritic anterior ischemic optic neuropathy (NAION) in patients with type 2 diabetes or patients who are overweight or obese?\n",
    "\n",
    "Findings: This matched cohort study of 16 827 patients revealed higher risk of NAION in patients prescribed semaglutide compared with patients prescribed non–glucagon-like peptide receptor agonist medications for diabetes or obesity.\n",
    "\n",
    "Meaning: The findings suggest a potential risk of NAION associated with prescriptions for semaglutide, but future study is required to assess causality.\"\"\"\n",
    "\n",
    "abstract = \"\"\"Importance: Anecdotal experience raised the possibility that semaglutide, a glucagon-like peptide 1 receptor agonist (GLP-1 RA) with rapidly increasing use, is associated with nonarteritic anterior ischemic optic neuropathy (NAION).\n",
    "\n",
    "Objective: To investigate whether there is an association between semaglutide and risk of NAION.\n",
    "\n",
    "Design, Setting, and Participants: In a retrospective matched cohort study using data from a centralized data registry of patients evaluated by neuro-ophthalmologists at 1 academic institution from December 1, 2017, through November 30, 2023, a search for International Statistical Classification of Diseases and Related Health Problems, Tenth Revision code H47.01 (ischemic optic neuropathy) and text search yielded 16 827 patients with no history of NAION. Propensity matching was used to assess whether prescribed semaglutide was associated with NAION in patients with type 2 diabetes (T2D) or overweight/obesity, in each case accounting for covarying factors (sex, age, systemic hypertension, T2D, obstructive sleep apnea, obesity, hyperlipidemia, and coronary artery disease) and contraindications for use of semaglutide. The cumulative incidence of NAION was determined with the Kaplan-Meier method and a Cox proportional hazards regression model adjusted for potential confounding comorbidities. Data were analyzed from December 1, 2017, through November 30, 2023.\n",
    "\n",
    "Exposures: Prescriptions for semaglutide vs non–GLP-1 RA medications to manage either T2D or weight.\n",
    "\n",
    "Main Outcomes and Measures: Cumulative incidence and hazard ratio of NAION.\n",
    "\n",
    "Results: Among 16 827 patients, 710 had T2D (194 prescribed semaglutide; 516 prescribed non–GLP-1 RA antidiabetic medications; median [IQR] age, 59 [49-68] years; 369 [52%] female) and 979 were overweight or obese (361 prescribed semaglutide; 618 prescribed non–GLP-1 RA weight-loss medications; median [IQR] age, 47 [32-59] years; 708 [72%] female). In the population with T2D, 17 NAION events occurred in patients prescribed semaglutide vs 6 in the non–GLP-1 RA antidiabetes cohort. The cumulative incidence of NAION for the semaglutide and non–GLP-1 RA cohorts over 36 months was 8.9% (95% CI, 4.5%-13.1%) and 1.8% (95% CI, 0%-3.5%), respectively. A Cox proportional hazards regression model showed higher risk of NAION for patients receiving semaglutide (hazard ratio [HR], 4.28; 95% CI, 1.62-11.29); P < .001). In the population of patients who were overweight or obese, 20 NAION events occurred in the prescribed semaglutide cohort vs 3 in the non–GLP-1 RA cohort. The cumulative incidence of NAION for the semaglutide vs non–GLP-1 RA cohorts over 36 months was 6.7% (95% CI, 3.6%-9.7%) and 0.8% (95% CI, 0%-1.8%), respectively. A Cox proportional hazards regression model showed a higher risk of NAION for patients prescribed semaglutide (HR, 7.64; 95% CI, 2.21-26.36; P < .001).\n",
    "\n",
    "Conclusions and Relevance: This study’s findings suggest an association between semaglutide and NAION. As this was an observational study, future study is required to assess causality.\"\"\"\n",
    "\n",
    "\n",
    "research_study = \"\\n\".join(\n",
    "    [(f\"Title: {title}\"), (f\"Key point: {key_points}\"), (f\"Abstract: {abstract}\")]\n",
    ")\n",
    "print(research_study)"
   ]
  },
  {
   "cell_type": "code",
   "execution_count": 30,
   "id": "7fac1cc2",
   "metadata": {},
   "outputs": [
    {
     "name": "stdout",
     "output_type": "stream",
     "text": [
      "The study \"Risk of Nonarteritic Anterior Ischemic Optic Neuropathy (NAION) in Patients Prescribed Semaglutide\" was a retrospective matched cohort study that aimed to investigate whether semaglutide, a glucagon-like peptide 1 receptor agonist (GLP-1 RA), is associated with an increased risk of NAION. The researchers used data from a centralized registry at an academic institution for patients evaluated by neuro-ophthalmologists over a period from December 1, 2017, to November 30, 2023.\n",
      "\n",
      "The study included two main populations: patients with type 2 diabetes (T2D) and those who were overweight or obese. Propensity matching was used to assess the association between semaglutide prescriptions and NAION risk while accounting for various factors such as sex, age, systemic hypertension, T2D, obstructive sleep apnea, obesity, hyperlipidemia, and coronary artery disease.\n",
      "\n",
      "The findings indicated higher risks of NAION in both groups when compared to patients prescribed non-Glucagon-like peptide receptor agonist medications. Specifically, in the group with T2D:\n",
      "- 194 patients were prescribed semaglutide\n",
      "- 516 were prescribed non-Glucagon-like peptide RA antidiabetic medications\n",
      "\n",
      "In this cohort, NAION events occurred at a rate of 8.9% for those prescribed semaglutide versus 1.8% for those on other medications over a period of 36 months.\n",
      "\n",
      "Similarly, in the overweight or obese group:\n",
      "- 361 were prescribed semaglutide\n",
      "- 618 were prescribed non-Glucagon-like peptide RA weight-loss medications\n",
      "\n",
      "NAION events were observed at a rate of 6.7% for those on semaglutide versus 0.8% for those using other medications over the same duration.\n",
      "\n",
      "Statistical analysis through Cox proportional hazards regression models confirmed an increased risk of NAION associated with semaglutide prescriptions, both in patients with T2D (HR = 4.28) and those who were overweight or obese (HR = 7.64).\n",
      "\n",
      "The study concludes that while there is a suggestion of a potential link between semaglutide use and an increased risk of NAION, future studies are necessary to establish causality definitively due to the observational nature of this research."
     ]
    }
   ],
   "source": [
    "import ollama\n",
    "\n",
    "response = ollama.chat(\n",
    "    model=\"qwen2:7b-instruct-q6_K\",\n",
    "    messages=[\n",
    "        {\n",
    "            \"role\": \"system\",\n",
    "            \"content\": \"\"\"You are a research assistant. You must answer user's question based on the given research study\n",
    "\n",
    "Research study:\n",
    "{research_study}\n",
    "\"\"\".format(research_study=research_study)\n",
    "        },\n",
    "        {\"role\": \"user\", \"content\": f'Please summarize the study {title}'},\n",
    "    ],\n",
    "    stream=False,\n",
    ")\n",
    "Markdown(response[\"message\"][\"content\"])"
   ]
  },
  {
   "cell_type": "code",
   "execution_count": 35,
   "id": "747bf24c",
   "metadata": {},
   "outputs": [
    {
     "data": {
      "text/markdown": [
       "The research on the risk of nonarteritic anterior ischemic optic neuropathy (NAION) in patients prescribed semaglutide has several strengths, including its large sample size and comprehensive analysis. However, there are some limitations to consider when critically evaluating this study:\n",
       "\n",
       "1. **Observational Nature**: The study is observational, which means it cannot establish causality between semaglutide use and NAION. Observational studies are subject to confounding variables that could influence the results.\n",
       "\n",
       "2. **Retrospective Analysis**: Conducting a retrospective analysis can introduce bias due to missing or incomplete data. Also, it relies on historical records of drug usage and health outcomes, which might not be accurate in all cases.\n",
       "\n",
       "3. **Propensity Score Matching**: Although propensity score matching helps reduce selection bias by balancing the distribution of confounding variables between treatment groups, it cannot eliminate all potential biases or causal links.\n",
       "\n",
       "4. **Assumptions about Causal Inference**: The study's interpretation that semaglutide is associated with an increased risk of NAION assumes a correlation implies causation, which may not be entirely justified without further research to confirm the causal relationship.\n",
       "\n",
       "5. **Limited Follow-up Period**: A 36-month follow-up period could provide valuable insights but might not be long enough to detect all cases of NAION if the onset occurs later after starting semaglutide therapy.\n",
       "\n",
       "6. **Lack of Longitudinal Data on Drug Interaction Effects**: The study does not provide data on the duration of treatment with semaglutide, which can affect its efficacy and potential side effects.\n",
       "\n",
       "7. **Variability in Patient Characteristics**: While the propensity score matching attempts to account for differences between patients prescribed semaglutide versus non-GLP-1 RA medications, there may still be residual confounding due to unmeasured or unknown factors.\n",
       "\n",
       "8. **Generalizability**: The results may not be generalizable beyond the specific population studied (patients with type 2 diabetes or obesity), as different patient populations could have varying responses to semaglutide and NAION risk.\n",
       "\n",
       "9. **Absence of Randomization**: Randomized controlled trials are considered the gold standard for establishing causality, which is lacking in this study design.\n",
       "\n",
       "10. **Statistical Power**: Although not explicitly stated, having more statistical power can help detect true associations with greater confidence. The sample size and event rate may affect the reliability of the findings.\n",
       "\n",
       "In conclusion, while the study provides preliminary evidence suggesting a potential association between semaglutide use and NAION risk, it does not establish causality. Further research using prospective studies or randomized controlled trials would be necessary to confirm these findings and better understand the mechanisms behind this association."
      ],
      "text/plain": [
       "<IPython.core.display.Markdown object>"
      ]
     },
     "execution_count": 35,
     "metadata": {},
     "output_type": "execute_result"
    }
   ],
   "source": [
    "response = ollama.chat(\n",
    "    model=\"qwen2:7b-instruct-q6_K\",\n",
    "    messages=[\n",
    "        {\n",
    "            \"role\": \"system\",\n",
    "            \"content\": \"\"\"You are a research assistant. You must answer user's question based on the given research study\n",
    "\n",
    "Research study:\n",
    "{research_study}\n",
    "\"\"\".format(research_study=research_study)\n",
    "        },\n",
    "        {\"role\": \"user\", \"content\": f'Criticize the study {title}'},\n",
    "    ],\n",
    "    stream=False,\n",
    ")\n",
    "\n",
    "Markdown(response[\"message\"][\"content\"])"
   ]
  },
  {
   "cell_type": "code",
   "execution_count": 36,
   "id": "1ca9fd81",
   "metadata": {},
   "outputs": [
    {
     "data": {
      "text/markdown": [
       "To generate a knowledge graph for the study \"Risk of Nonarteritic Anterior Ischemic Optic Neuropathy (NAION) in Patients Prescribed Semaglutide\", we can outline the main entities, relationships, and findings. This will provide a visual representation that highlights connections between key aspects of the research.\n",
       "\n",
       "**Knowledge Graph Outline:**\n",
       "\n",
       "- **Nodes**\n",
       "  - \"Semaglutide\"\n",
       "  - \"Nonarteritic Anterior Ischemic Optic Neuropathy (NAION)\"\n",
       "  - \"Type 2 Diabetes\"\n",
       "  - \"Overweight/Obesity\"\n",
       "  - \"GLP-1 Receptor Agonists\"\n",
       "  - \"Propensity Matching\"\n",
       "  - \"Kaplan-Meier Method\"\n",
       "  - \"Cox Proportional Hazards Regression Model\"\n",
       "  - \"Incidence of NAION\"\n",
       "  - \"Risk Ratio (Hazard Ratio)\"\n",
       "\n",
       "- **Edges**\n",
       "  - \"Used to Treat\" (Semaglutide -> Type 2 Diabetes, Overweight/Obesity)\n",
       "  - \"Association with Risk\" (Semaglutide -> NAION, GLP-1 Receptor Agonists)\n",
       "  - \"Statistical Method\" (Propensity Matching -> Data Analysis)\n",
       "  - \"Incidence Calculation\" (Kaplan-Meier Method -> Incidence of NAION)\n",
       "  - \"Risk Assessment Tool\" (Cox Proportional Hazards Regression Model -> Risk Ratio, Hazard Ratio)\n",
       "  - \"Comparative Study\" (Semaglutide Cohort vs. Non-Glucagon-Like Peptide Receptor Agonist Cohort)\n",
       "\n",
       "**Key Findings:**\n",
       "- **Increased Risk:** Patients prescribed semaglutide showed higher risk of NAION compared to those on non-Glucagon-Like Peptide Receptor Agonist medications.\n",
       "  - Specifically:\n",
       "    - In T2D patients, the incidence was 8.9% vs 1.8%, with a hazard ratio (HR) of 4.28 for semaglutide users.\n",
       "    - For overweight/obese individuals, it was 6.7% vs 0.8%, with an HR of 7.64.\n",
       "\n",
       "This knowledge graph provides a structured way to understand the study's focus on Semaglutide and its potential association with NAION in patients with specific health conditions or diagnoses. It highlights the methods used for analysis and emphasizes the statistical significance of observed risk ratios, which support the findings of an increased NAION risk associated with Semaglutide use."
      ],
      "text/plain": [
       "<IPython.core.display.Markdown object>"
      ]
     },
     "execution_count": 36,
     "metadata": {},
     "output_type": "execute_result"
    }
   ],
   "source": [
    "response = ollama.chat(\n",
    "    model=\"qwen2:7b-instruct-q6_K\",\n",
    "    messages=[\n",
    "        {\n",
    "            \"role\": \"system\",\n",
    "            \"content\": \"\"\"You are a research assistant. You must answer user's question based on the given research study\n",
    "\n",
    "Research study:\n",
    "{research_study}\n",
    "\"\"\".format(research_study=research_study)\n",
    "        },\n",
    "        {\"role\": \"user\", \"content\": f'Generate knowledge graph from the study {title}'},\n",
    "    ],\n",
    "    stream=False,\n",
    ")\n",
    "\n",
    "Markdown(response[\"message\"][\"content\"])"
   ]
  }
 ],
 "metadata": {
  "kernelspec": {
   "display_name": "Python 3 (ipykernel)",
   "language": "python",
   "name": "python3"
  },
  "language_info": {
   "codemirror_mode": {
    "name": "ipython",
    "version": 3
   },
   "file_extension": ".py",
   "mimetype": "text/x-python",
   "name": "python",
   "nbconvert_exporter": "python",
   "pygments_lexer": "ipython3",
   "version": "3.11.9"
  }
 },
 "nbformat": 4,
 "nbformat_minor": 5
}
