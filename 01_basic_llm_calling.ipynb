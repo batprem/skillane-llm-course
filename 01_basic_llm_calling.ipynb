{
 "cells": [
  {
   "cell_type": "code",
   "execution_count": 3,
   "id": "33c281d5",
   "metadata": {},
   "outputs": [
    {
     "name": "stdout",
     "output_type": "stream",
     "text": [
      "สวัสดีครับ/ค่ะ คุณต้องการให้ฉันช่วยอะไรครับ?"
     ]
    }
   ],
   "source": [
    "import ollama\n",
    "\n",
    "response = ollama.chat(model='qwen2:7b-instruct-q6_K', messages=[\n",
    "    {\n",
    "        'role': 'user',\n",
    "        'content': 'สวัสดี Qwen'\n",
    "    },\n",
    "\n",
    "], stream=True)\n",
    "\n",
    "for r in response:\n",
    "    print(r[\"message\"][\"content\"], end=\"\")"
   ]
  },
  {
   "cell_type": "code",
   "execution_count": 6,
   "id": "429f9ee5",
   "metadata": {
    "scrolled": true
   },
   "outputs": [
    {
     "data": {
      "text/markdown": [
       "To create a simple linear graph using the `matplotlib` library in Python, you first need to have this package installed. If it's not already installed, you can add it with pip:\n",
       "\n",
       "```bash\n",
       "pip install matplotlib\n",
       "```\n",
       "\n",
       "Here is an example of how you can plot a linear graph using Python with the `matplotlib` library:\n",
       "\n",
       "```python\n",
       "import matplotlib.pyplot as plt\n",
       "\n",
       "# Data points for x and y values\n",
       "x = [1, 2, 3, 4, 5]\n",
       "y = [2, 3, 5, 7, 11]\n",
       "\n",
       "# Create a new figure\n",
       "plt.figure()\n",
       "\n",
       "# Plot the data with labels and title\n",
       "plt.plot(x, y, label='Linear function')\n",
       "plt.title('Example of Linear Graph')\n",
       "plt.xlabel('X-axis Label')\n",
       "plt.ylabel('Y-axis Label')\n",
       "\n",
       "# Add a legend to the plot\n",
       "plt.legend()\n",
       "\n",
       "# Display the graph\n",
       "plt.show()\n",
       "```\n",
       "\n",
       "This code will create a simple linear graph with `x` and `y` values defined as lists. You can adjust these lists according to your requirements.\n",
       "\n",
       "If you want to use different data points, just replace the `x` and `y` variables with your own list of numbers:\n",
       "\n",
       "```python\n",
       "x = [1, 2, 3, 4, 5]\n",
       "y = [2 * i for i in x] # Here y is a linear function of x (y = 2x)\n",
       "```\n",
       "\n",
       "The code will then plot `y` as the result of a simple linear function based on `x`."
      ],
      "text/plain": [
       "<IPython.core.display.Markdown object>"
      ]
     },
     "execution_count": 6,
     "metadata": {},
     "output_type": "execute_result"
    }
   ],
   "source": [
    "import ollama\n",
    "from IPython.display import Markdown\n",
    "\n",
    "response = ollama.chat(model='qwen2:7b-instruct-q6_K', messages=[\n",
    "\n",
    "    {\n",
    "        'role': 'user',\n",
    "        'content': 'Write a Python code to plot a linear graph'\n",
    "    },\n",
    "\n",
    "], stream=False)\n",
    "\n",
    "Markdown(response[\"message\"][\"content\"])"
   ]
  },
  {
   "cell_type": "code",
   "execution_count": 7,
   "id": "f973dddb",
   "metadata": {},
   "outputs": [
    {
     "name": "stdout",
     "output_type": "stream",
     "text": [
      "\u001b[2K\u001b[1A\u001b[36m⠁\u001b[0m updating lock-file   [00:00:00] [\u001b[38;5;11m\u001b[37m\u001b[2m────────────────────────────────────────\u001b[0m\u001b[0m]    0/3    \u001b[2m\u001b[0m\u001b[1A\n",
      "\u001b[2K\u001b[2A\u001b[36m⠁\u001b[0m updating lock-file   [00:00:00] [\u001b[38;5;11m\u001b[37m\u001b[2m────────────────────────────────────────\u001b[0m\u001b[0m]    0/3    \u001b[2m\u001b[0m\n",
      "\u001b[2K\u001b[2A\u001b[36m⠁\u001b[0m updating lock-file   [00:00:00] [\u001b[38;5;11m\u001b[37m\u001b[2m────────────────────────────────────────\u001b[0m\u001b[0m]    0/3    \u001b[2m\u001b[0m\n",
      "\u001b[2K\u001b[1A\u001b[36m⠠\u001b[0m updating lock-file   [00:00:00] [\u001b[38;5;11m━━━━━━━━━━━━━╾\u001b[37m\u001b[2m──────────────────────────\u001b[0m\u001b[0m]    1/3    \u001b[2m\u001b[0m\u001b[1A\u001b[1A\u001b[1A\u001b[1A\u001b[1A\u001b[1A\u001b[1A\u001b[1A\u001b[1A\u001b[1A\u001b[1A\u001b[1A\n",
      "\u001b[2K\u001b[2A\u001b[36m⠠\u001b[0m updating lock-file   [00:00:00] [\u001b[38;5;11m━━━━━━━━━━━━━╾\u001b[37m\u001b[2m──────────────────────────\u001b[0m\u001b[0m]    1/3    \u001b[2m\u001b[0m\n",
      "\u001b[2K\u001b[2A\u001b[36m⠠\u001b[0m updating lock-file   [00:00:00] [\u001b[38;5;11m━━━━━━━━━━━━━╾\u001b[37m\u001b[2m──────────────────────────\u001b[0m\u001b[0m]    1/3    \u001b[2m\u001b[0m\n",
      "\u001b[2K\u001b[2A\u001b[36m⠠\u001b[0m updating lock-file   [00:00:00] [\u001b[38;5;11m━━━━━━━━━━━━━╾\u001b[37m\u001b[2m──────────────────────────\u001b[0m\u001b[0m]    1/3    \u001b[2m\u001b[0m\n",
      "  \u001b[2m⠁\u001b[0m \u001b[35mdefault\u001b[0m:\u001b[33mosx-64\u001b[0m       [00:00:00] \u001b[2mresolving pypi dependencies\u001b[0m\n",
      "\u001b[2K\u001b[3A\u001b[36m⠠\u001b[0m updating lock-file   [00:00:00] [\u001b[38;5;11m━━━━━━━━━━━━━╾\u001b[37m\u001b[2m──────────────────────────\u001b[0m\u001b[0m]    1/3    \u001b[2m\u001b[0m\n",
      "  \u001b[2m⠁\u001b[0m \u001b[35mdefault\u001b[0m:\u001b[33mosx-64\u001b[0m       [00:00:00] \u001b[2mresolving pypi dependencies\u001b[0m\n",
      "\u001b[2K\u001b[3A\u001b[36m⠠\u001b[0m updating lock-file   [00:00:00] [\u001b[38;5;11m━━━━━━━━━━━━━╾\u001b[37m\u001b[2m──────────────────────────\u001b[0m\u001b[0m]    1/3    \u001b[2m\u001b[0m\n",
      "\u001b[2K\u001b[2A\u001b[36m⠠\u001b[0m updating lock-file   [00:00:00] [\u001b[38;5;11m━━━━━━━━━━━━━╾\u001b[37m\u001b[2m──────────────────────────\u001b[0m\u001b[0m]    1/3    \u001b[2m\u001b[0m\n",
      "\u001b[2K\u001b[2A\u001b[36m⠤\u001b[0m updating lock-file   [00:00:00] [\u001b[38;5;11m━━━━━━━━━━━━━╾\u001b[37m\u001b[2m──────────────────────────\u001b[0m\u001b[0m]    1/3    \u001b[2m\u001b[0m\n",
      "\u001b[2K\u001b[2A\u001b[36m⠤\u001b[0m updating lock-file   [00:00:00] [\u001b[38;5;11m━━━━━━━━━━━━━╾\u001b[37m\u001b[2m──────────────────────────\u001b[0m\u001b[0m]    1/3    \u001b[2m\u001b[0m\n",
      "\u001b[2K\u001b[2A\u001b[36m⠦\u001b[0m updating lock-file   [00:00:00] [\u001b[38;5;11m━━━━━━━━━━━━━╾\u001b[37m\u001b[2m──────────────────────────\u001b[0m\u001b[0m]    1/3    \u001b[2m\u001b[0m\n",
      "\u001b[2K\u001b[2A\u001b[36m⠦\u001b[0m updating lock-file   [00:00:00] [\u001b[38;5;11m━━━━━━━━━━━━━╾\u001b[37m\u001b[2m──────────────────────────\u001b[0m\u001b[0m]    1/3    \u001b[2m\u001b[0m\n",
      "\u001b[2K\u001b[2A\u001b[36m⠖\u001b[0m updating lock-file   [00:00:00] [\u001b[38;5;11m━━━━━━━━━━━━━╾\u001b[37m\u001b[2m──────────────────────────\u001b[0m\u001b[0m]    1/3    \u001b[2m\u001b[0m\n",
      "\u001b[2K\u001b[2A\u001b[36m⠒\u001b[0m updating lock-file   [00:00:01] [\u001b[38;5;11m━━━━━━━━━━━━━╾\u001b[37m\u001b[2m──────────────────────────\u001b[0m\u001b[0m]    1/3    \u001b[2m\u001b[0m\n",
      "\u001b[2K\u001b[2A\u001b[36m⠒\u001b[0m updating lock-file   [00:00:01] [\u001b[38;5;11m━━━━━━━━━━━━━╾\u001b[37m\u001b[2m──────────────────────────\u001b[0m\u001b[0m]    1/3    \u001b[2m\u001b[0m\n",
      "\u001b[2K\u001b[2A\u001b[36m⠐\u001b[0m updating lock-file   [00:00:01] [\u001b[38;5;11m━━━━━━━━━━━━━╾\u001b[37m\u001b[2m──────────────────────────\u001b[0m\u001b[0m]    1/3    \u001b[2m\u001b[0m\n",
      "\u001b[2K\u001b[2A\u001b[36m⠐\u001b[0m updating lock-file   [00:00:01] [\u001b[38;5;11m━━━━━━━━━━━━━╾\u001b[37m\u001b[2m──────────────────────────\u001b[0m\u001b[0m]    1/3    \u001b[2m\u001b[0m\n",
      "\u001b[2K\u001b[2A\u001b[36m⠐\u001b[0m updating lock-file   [00:00:01] [\u001b[38;5;11m━━━━━━━━━━━━━╾\u001b[37m\u001b[2m──────────────────────────\u001b[0m\u001b[0m]    1/3    \u001b[2m\u001b[0m\n",
      "\u001b[2K\u001b[2A\u001b[36m⠒\u001b[0m updating lock-file   [00:00:01] [\u001b[38;5;11m━━━━━━━━━━━━━╾\u001b[37m\u001b[2m──────────────────────────\u001b[0m\u001b[0m]    1/3    \u001b[2m\u001b[0m\n",
      "\u001b[2K\u001b[2A\u001b[36m⠒\u001b[0m updating lock-file   [00:00:01] [\u001b[38;5;11m━━━━━━━━━━━━━╾\u001b[37m\u001b[2m──────────────────────────\u001b[0m\u001b[0m]    1/3    \u001b[2m\u001b[0m\n",
      "\u001b[2K\u001b[2A\u001b[36m⠒\u001b[0m updating lock-file   [00:00:01] [\u001b[38;5;11m━━━━━━━━━━━━━╾\u001b[37m\u001b[2m──────────────────────────\u001b[0m\u001b[0m]    1/3    \u001b[2m\u001b[0m\n",
      "\u001b[2K\u001b[2A\u001b[36m⠒\u001b[0m updating lock-file   [00:00:01] [\u001b[38;5;11m━━━━━━━━━━━━━╾\u001b[37m\u001b[2m──────────────────────────\u001b[0m\u001b[0m]    1/3    \u001b[2m\u001b[0m\n",
      "\u001b[2K\u001b[2A\u001b[36m⠓\u001b[0m updating lock-file   [00:00:01] [\u001b[38;5;11m━━━━━━━━━━━━━╾\u001b[37m\u001b[2m──────────────────────────\u001b[0m\u001b[0m]    1/3    \u001b[2m\u001b[0m\n",
      "\u001b[2K\u001b[2A\u001b[36m⠓\u001b[0m updating lock-file   [00:00:01] [\u001b[38;5;11m━━━━━━━━━━━━━╾\u001b[37m\u001b[2m──────────────────────────\u001b[0m\u001b[0m]    1/3    \u001b[2m\u001b[0m\n",
      "\u001b[2K\u001b[2A\u001b[36m⠋\u001b[0m updating lock-file   [00:00:01] [\u001b[38;5;11m━━━━━━━━━━━━━╾\u001b[37m\u001b[2m──────────────────────────\u001b[0m\u001b[0m]    1/3    \u001b[2m\u001b[0m\n",
      "\u001b[2K\u001b[2A\u001b[36m⠉\u001b[0m updating lock-file   [00:00:01] [\u001b[38;5;11m━━━━━━━━━━━━━╾\u001b[37m\u001b[2m──────────────────────────\u001b[0m\u001b[0m]    1/3    \u001b[2m\u001b[0m\n",
      "\u001b[2K\u001b[2A\u001b[36m⠉\u001b[0m updating lock-file   [00:00:01] [\u001b[38;5;11m━━━━━━━━━━━━━╾\u001b[37m\u001b[2m──────────────────────────\u001b[0m\u001b[0m]    1/3    \u001b[2m\u001b[0m\n",
      "\u001b[2K\u001b[2A\u001b[36m⠈\u001b[0m updating lock-file   [00:00:01] [\u001b[38;5;11m━━━━━━━━━━━━━╾\u001b[37m\u001b[2m──────────────────────────\u001b[0m\u001b[0m]    1/3    \u001b[2m\u001b[0m\n",
      "\u001b[2K\u001b[2A\u001b[36m⠈\u001b[0m updating lock-file   [00:00:01] [\u001b[38;5;11m━━━━━━━━━━━━━╾\u001b[37m\u001b[2m──────────────────────────\u001b[0m\u001b[0m]    1/3    \u001b[2m\u001b[0m\n",
      "\u001b[2K\u001b[2A\u001b[36m⠈\u001b[0m updating lock-file   [00:00:01] [\u001b[38;5;11m━━━━━━━━━━━━━╾\u001b[37m\u001b[2m──────────────────────────\u001b[0m\u001b[0m]    1/3    \u001b[2m\u001b[0m\n",
      "\u001b[2K\u001b[2A\u001b[36m⠁\u001b[0m updating lock-file   [00:00:01] [\u001b[38;5;11m━━━━━━━━━━━━━╾\u001b[37m\u001b[2m──────────────────────────\u001b[0m\u001b[0m]    1/3    \u001b[2m\u001b[0m\n",
      "\u001b[2K\u001b[2A\u001b[36m⠁\u001b[0m updating lock-file   [00:00:01] [\u001b[38;5;11m━━━━━━━━━━━━━╾\u001b[37m\u001b[2m──────────────────────────\u001b[0m\u001b[0m]    1/3    \u001b[2m\u001b[0m\n",
      "\u001b[2K\u001b[2A\u001b[36m⠁\u001b[0m updating lock-file   [00:00:01] [\u001b[38;5;11m━━━━━━━━━━━━━╾\u001b[37m\u001b[2m──────────────────────────\u001b[0m\u001b[0m]    1/3    \u001b[2m\u001b[0m\n",
      "\u001b[2K\u001b[2A\u001b[36m⠉\u001b[0m updating lock-file   [00:00:01] [\u001b[38;5;11m━━━━━━━━━━━━━╾\u001b[37m\u001b[2m──────────────────────────\u001b[0m\u001b[0m]    1/3    \u001b[2m\u001b[0m\n",
      "\u001b[2K\u001b[2A\u001b[36m⠙\u001b[0m updating lock-file   [00:00:01] [\u001b[38;5;11m━━━━━━━━━━━━━╾\u001b[37m\u001b[2m──────────────────────────\u001b[0m\u001b[0m]    1/3    \u001b[2m\u001b[0m\n",
      "\u001b[2K\u001b[2A\u001b[36m⠙\u001b[0m updating lock-file   [00:00:01] [\u001b[38;5;11m━━━━━━━━━━━━━╾\u001b[37m\u001b[2m──────────────────────────\u001b[0m\u001b[0m]    1/3    \u001b[2m\u001b[0m\n",
      "\u001b[2K\u001b[2A\u001b[36m⠚\u001b[0m updating lock-file   [00:00:01] [\u001b[38;5;11m━━━━━━━━━━━━━╾\u001b[37m\u001b[2m──────────────────────────\u001b[0m\u001b[0m]    1/3    \u001b[2m\u001b[0m\n",
      "\u001b[2K\u001b[2A\u001b[36m⠒\u001b[0m updating lock-file   [00:00:01] [\u001b[38;5;11m━━━━━━━━━━━━━╾\u001b[37m\u001b[2m──────────────────────────\u001b[0m\u001b[0m]    1/3    \u001b[2m\u001b[0m\n",
      "\u001b[2K\u001b[2A\u001b[36m⠒\u001b[0m updating lock-file   [00:00:01] [\u001b[38;5;11m━━━━━━━━━━━━━╾\u001b[37m\u001b[2m──────────────────────────\u001b[0m\u001b[0m]    1/3    \u001b[2m\u001b[0m\n",
      "\u001b[2K\u001b[2A\u001b[36m⠂\u001b[0m updating lock-file   [00:00:01] [\u001b[38;5;11m━━━━━━━━━━━━━╾\u001b[37m\u001b[2m──────────────────────────\u001b[0m\u001b[0m]    1/3    \u001b[2m\u001b[0m\n",
      "\u001b[2K\u001b[2A\u001b[36m⠂\u001b[0m updating lock-file   [00:00:01] [\u001b[38;5;11m━━━━━━━━━━━━━╾\u001b[37m\u001b[2m──────────────────────────\u001b[0m\u001b[0m]    1/3    \u001b[2m\u001b[0m\n",
      "\u001b[2K\u001b[2A\u001b[36m⠒\u001b[0m updating lock-file   [00:00:01] [\u001b[38;5;11m━━━━━━━━━━━━━╾\u001b[37m\u001b[2m──────────────────────────\u001b[0m\u001b[0m]    1/3    \u001b[2m\u001b[0m\n",
      "\u001b[2K\u001b[2A\u001b[36m⠲\u001b[0m updating lock-file   [00:00:01] [\u001b[38;5;11m━━━━━━━━━━━━━╾\u001b[37m\u001b[2m──────────────────────────\u001b[0m\u001b[0m]    1/3    \u001b[2m\u001b[0m\n",
      "\u001b[2K\u001b[2A\u001b[36m⠴\u001b[0m updating lock-file   [00:00:02] [\u001b[38;5;11m━━━━━━━━━━━━━╾\u001b[37m\u001b[2m──────────────────────────\u001b[0m\u001b[0m]    1/3    \u001b[2m\u001b[0m\n",
      "\u001b[2K\u001b[2A\u001b[36m⠤\u001b[0m updating lock-file   [00:00:02] [\u001b[38;5;11m━━━━━━━━━━━━━╾\u001b[37m\u001b[2m──────────────────────────\u001b[0m\u001b[0m]    1/3    \u001b[2m\u001b[0m\n",
      "\u001b[2K\u001b[2A\u001b[36m⠤\u001b[0m updating lock-file   [00:00:02] [\u001b[38;5;11m━━━━━━━━━━━━━╾\u001b[37m\u001b[2m──────────────────────────\u001b[0m\u001b[0m]    1/3    \u001b[2m\u001b[0m\n",
      "\u001b[2K\u001b[2A\u001b[36m⠄\u001b[0m updating lock-file   [00:00:02] [\u001b[38;5;11m━━━━━━━━━━━━━╾\u001b[37m\u001b[2m──────────────────────────\u001b[0m\u001b[0m]    1/3    \u001b[2m\u001b[0m\n",
      "\u001b[2K\u001b[2A\u001b[36m⠄\u001b[0m updating lock-file   [00:00:02] [\u001b[38;5;11m━━━━━━━━━━━━━╾\u001b[37m\u001b[2m──────────────────────────\u001b[0m\u001b[0m]    1/3    \u001b[2m\u001b[0m\n",
      "\u001b[2K\u001b[2A\u001b[36m⠤\u001b[0m updating lock-file   [00:00:02] [\u001b[38;5;11m━━━━━━━━━━━━━╾\u001b[37m\u001b[2m──────────────────────────\u001b[0m\u001b[0m]    1/3    \u001b[2m\u001b[0m\n",
      "\u001b[2K\u001b[2A\u001b[36m⠠\u001b[0m updating lock-file   [00:00:02] [\u001b[38;5;11m━━━━━━━━━━━━━╾\u001b[37m\u001b[2m──────────────────────────\u001b[0m\u001b[0m]    1/3    \u001b[2m\u001b[0m\n",
      "\u001b[2K\u001b[2A\u001b[36m⠠\u001b[0m updating lock-file   [00:00:02] [\u001b[38;5;11m━━━━━━━━━━━━━╾\u001b[37m\u001b[2m──────────────────────────\u001b[0m\u001b[0m]    1/3    \u001b[2m\u001b[0m\n",
      "\u001b[2K\u001b[2A\u001b[36m⠠\u001b[0m updating lock-file   [00:00:02] [\u001b[38;5;11m━━━━━━━━━━━━━╾\u001b[37m\u001b[2m──────────────────────────\u001b[0m\u001b[0m]    1/3    \u001b[2m\u001b[0m\n",
      "\u001b[2K\u001b[2A\u001b[36m⠦\u001b[0m updating lock-file   [00:00:02] [\u001b[38;5;11m━━━━━━━━━━━━━╾\u001b[37m\u001b[2m──────────────────────────\u001b[0m\u001b[0m]    1/3    \u001b[2m\u001b[0m\n",
      "\u001b[2K\u001b[2A\u001b[36m⠦\u001b[0m updating lock-file   [00:00:02] [\u001b[38;5;11m━━━━━━━━━━━━━╾\u001b[37m\u001b[2m──────────────────────────\u001b[0m\u001b[0m]    1/3    \u001b[2m\u001b[0m\n"
     ]
    },
    {
     "name": "stdout",
     "output_type": "stream",
     "text": [
      "\u001b[2K\u001b[2A\u001b[36m⠒\u001b[0m updating lock-file   [00:00:02] [\u001b[38;5;11m━━━━━━━━━━━━━╾\u001b[37m\u001b[2m──────────────────────────\u001b[0m\u001b[0m]    1/3    \u001b[2m\u001b[0m\n",
      "\u001b[2K\u001b[2A\u001b[36m⠒\u001b[0m updating lock-file   [00:00:02] [\u001b[38;5;11m━━━━━━━━━━━━━╾\u001b[37m\u001b[2m──────────────────────────\u001b[0m\u001b[0m]    1/3    \u001b[2m\u001b[0m\n",
      "\u001b[2K\u001b[2A\u001b[36m⠐\u001b[0m updating lock-file   [00:00:02] [\u001b[38;5;11m━━━━━━━━━━━━━╾\u001b[37m\u001b[2m──────────────────────────\u001b[0m\u001b[0m]    1/3    \u001b[2m\u001b[0m\n",
      "\u001b[2K\u001b[2A\u001b[36m⠐\u001b[0m updating lock-file   [00:00:02] [\u001b[38;5;11m━━━━━━━━━━━━━╾\u001b[37m\u001b[2m──────────────────────────\u001b[0m\u001b[0m]    1/3    \u001b[2m\u001b[0m\n",
      "\u001b[2K\u001b[2A\u001b[36m⠓\u001b[0m updating lock-file   [00:00:02] [\u001b[38;5;11m━━━━━━━━━━━━━╾\u001b[37m\u001b[2m──────────────────────────\u001b[0m\u001b[0m]    1/3    \u001b[2m\u001b[0m\n",
      "\u001b[2K\u001b[2A\u001b[36m⠓\u001b[0m updating lock-file   [00:00:02] [\u001b[38;5;11m━━━━━━━━━━━━━╾\u001b[37m\u001b[2m──────────────────────────\u001b[0m\u001b[0m]    1/3    \u001b[2m\u001b[0m\n",
      "\u001b[2K\u001b[2A\u001b[36m⠋\u001b[0m updating lock-file   [00:00:02] [\u001b[38;5;11m━━━━━━━━━━━━━╾\u001b[37m\u001b[2m──────────────────────────\u001b[0m\u001b[0m]    1/3    \u001b[2m\u001b[0m\n",
      "\u001b[2K\u001b[2A\u001b[36m⠉\u001b[0m updating lock-file   [00:00:02] [\u001b[38;5;11m━━━━━━━━━━━━━╾\u001b[37m\u001b[2m──────────────────────────\u001b[0m\u001b[0m]    1/3    \u001b[2m\u001b[0m\n",
      "\u001b[2K\u001b[2A\u001b[36m⠈\u001b[0m updating lock-file   [00:00:02] [\u001b[38;5;11m━━━━━━━━━━━━━╾\u001b[37m\u001b[2m──────────────────────────\u001b[0m\u001b[0m]    1/3    \u001b[2m\u001b[0m\n",
      "\u001b[2K\u001b[2A\u001b[36m⠈\u001b[0m updating lock-file   [00:00:03] [\u001b[38;5;11m━━━━━━━━━━━━━╾\u001b[37m\u001b[2m──────────────────────────\u001b[0m\u001b[0m]    1/3    \u001b[2m\u001b[0m\n",
      "\u001b[2K\u001b[2A\u001b[36m⠁\u001b[0m updating lock-file   [00:00:03] [\u001b[38;5;11m━━━━━━━━━━━━━╾\u001b[37m\u001b[2m──────────────────────────\u001b[0m\u001b[0m]    1/3    \u001b[2m\u001b[0m\n",
      "\u001b[2K\u001b[2A\u001b[36m⠁\u001b[0m updating lock-file   [00:00:03] [\u001b[38;5;11m━━━━━━━━━━━━━╾\u001b[37m\u001b[2m──────────────────────────\u001b[0m\u001b[0m]    1/3    \u001b[2m\u001b[0m\n",
      "\u001b[2K\u001b[2A\u001b[36m⠉\u001b[0m updating lock-file   [00:00:03] [\u001b[38;5;11m━━━━━━━━━━━━━╾\u001b[37m\u001b[2m──────────────────────────\u001b[0m\u001b[0m]    1/3    \u001b[2m\u001b[0m\n",
      "\u001b[2K\u001b[2A\u001b[36m⠙\u001b[0m updating lock-file   [00:00:03] [\u001b[38;5;11m━━━━━━━━━━━━━╾\u001b[37m\u001b[2m──────────────────────────\u001b[0m\u001b[0m]    1/3    \u001b[2m\u001b[0m\n",
      "\u001b[2K\u001b[2A\u001b[36m⠙\u001b[0m updating lock-file   [00:00:03] [\u001b[38;5;11m━━━━━━━━━━━━━╾\u001b[37m\u001b[2m──────────────────────────\u001b[0m\u001b[0m]    1/3    \u001b[2m\u001b[0m\n",
      "\u001b[2K\u001b[2A\u001b[36m⠒\u001b[0m updating lock-file   [00:00:03] [\u001b[38;5;11m━━━━━━━━━━━━━╾\u001b[37m\u001b[2m──────────────────────────\u001b[0m\u001b[0m]    1/3    \u001b[2m\u001b[0m\n",
      "\u001b[2K\u001b[2A\u001b[36m⠒\u001b[0m updating lock-file   [00:00:03] [\u001b[38;5;11m━━━━━━━━━━━━━╾\u001b[37m\u001b[2m──────────────────────────\u001b[0m\u001b[0m]    1/3    \u001b[2m\u001b[0m\n",
      "\u001b[2K\u001b[2A\u001b[36m⠂\u001b[0m updating lock-file   [00:00:03] [\u001b[38;5;11m━━━━━━━━━━━━━╾\u001b[37m\u001b[2m──────────────────────────\u001b[0m\u001b[0m]    1/3    \u001b[2m\u001b[0m\n",
      "\u001b[2K\u001b[2A\u001b[36m⠂\u001b[0m updating lock-file   [00:00:03] [\u001b[38;5;11m━━━━━━━━━━━━━╾\u001b[37m\u001b[2m──────────────────────────\u001b[0m\u001b[0m]    1/3    \u001b[2m\u001b[0m\n",
      "\u001b[2K\u001b[2A\u001b[36m⠲\u001b[0m updating lock-file   [00:00:03] [\u001b[38;5;11m━━━━━━━━━━━━━╾\u001b[37m\u001b[2m──────────────────────────\u001b[0m\u001b[0m]    1/3    \u001b[2m\u001b[0m\n",
      "\u001b[2K\u001b[2A\u001b[36m⠲\u001b[0m updating lock-file   [00:00:03] [\u001b[38;5;11m━━━━━━━━━━━━━╾\u001b[37m\u001b[2m──────────────────────────\u001b[0m\u001b[0m]    1/3    \u001b[2m\u001b[0m\n",
      "\u001b[2K\u001b[2A\u001b[36m⠴\u001b[0m updating lock-file   [00:00:03] [\u001b[38;5;11m━━━━━━━━━━━━━╾\u001b[37m\u001b[2m──────────────────────────\u001b[0m\u001b[0m]    1/3    \u001b[2m\u001b[0m\n",
      "\u001b[2K\u001b[2A\u001b[36m⠤\u001b[0m updating lock-file   [00:00:03] [\u001b[38;5;11m━━━━━━━━━━━━━╾\u001b[37m\u001b[2m──────────────────────────\u001b[0m\u001b[0m]    1/3    \u001b[2m\u001b[0m\n",
      "\u001b[2K\u001b[2A\u001b[36m⠄\u001b[0m updating lock-file   [00:00:03] [\u001b[38;5;11m━━━━━━━━━━━━━╾\u001b[37m\u001b[2m──────────────────────────\u001b[0m\u001b[0m]    1/3    \u001b[2m\u001b[0m\n",
      "\u001b[2K\u001b[2A\u001b[36m⠄\u001b[0m updating lock-file   [00:00:03] [\u001b[38;5;11m━━━━━━━━━━━━━╾\u001b[37m\u001b[2m──────────────────────────\u001b[0m\u001b[0m]    1/3    \u001b[2m\u001b[0m\n",
      "\u001b[2K\u001b[2A\u001b[36m⠤\u001b[0m updating lock-file   [00:00:03] [\u001b[38;5;11m━━━━━━━━━━━━━╾\u001b[37m\u001b[2m──────────────────────────\u001b[0m\u001b[0m]    1/3    \u001b[2m\u001b[0m\n",
      "\u001b[2K\u001b[2A\u001b[36m⠠\u001b[0m updating lock-file   [00:00:03] [\u001b[38;5;11m━━━━━━━━━━━━━╾\u001b[37m\u001b[2m──────────────────────────\u001b[0m\u001b[0m]    1/3    \u001b[2m\u001b[0m\n",
      "\u001b[2K\u001b[2A\u001b[36m⠠\u001b[0m updating lock-file   [00:00:03] [\u001b[38;5;11m━━━━━━━━━━━━━╾\u001b[37m\u001b[2m──────────────────────────\u001b[0m\u001b[0m]    1/3    \u001b[2m\u001b[0m\n",
      "\u001b[2K\u001b[2A\u001b[36m⠠\u001b[0m updating lock-file   [00:00:03] [\u001b[38;5;11m━━━━━━━━━━━━━╾\u001b[37m\u001b[2m──────────────────────────\u001b[0m\u001b[0m]    1/3    \u001b[2m\u001b[0m\n",
      "\u001b[2K\u001b[2A\u001b[36m⠦\u001b[0m updating lock-file   [00:00:04] [\u001b[38;5;11m━━━━━━━━━━━━━╾\u001b[37m\u001b[2m──────────────────────────\u001b[0m\u001b[0m]    1/3    \u001b[2m\u001b[0m\n",
      "\u001b[2K\u001b[2A\u001b[36m⠦\u001b[0m updating lock-file   [00:00:04] [\u001b[38;5;11m━━━━━━━━━━━━━╾\u001b[37m\u001b[2m──────────────────────────\u001b[0m\u001b[0m]    1/3    \u001b[2m\u001b[0m\n",
      "\u001b[2K\u001b[2A\u001b[36m⠒\u001b[0m updating lock-file   [00:00:04] [\u001b[38;5;11m━━━━━━━━━━━━━╾\u001b[37m\u001b[2m──────────────────────────\u001b[0m\u001b[0m]    1/3    \u001b[2m\u001b[0m\n",
      "\u001b[2K\u001b[2A\u001b[36m⠒\u001b[0m updating lock-file   [00:00:04] [\u001b[38;5;11m━━━━━━━━━━━━━╾\u001b[37m\u001b[2m──────────────────────────\u001b[0m\u001b[0m]    1/3    \u001b[2m\u001b[0m\n",
      "\u001b[2K\u001b[2A\u001b[36m⠐\u001b[0m updating lock-file   [00:00:04] [\u001b[38;5;11m━━━━━━━━━━━━━╾\u001b[37m\u001b[2m──────────────────────────\u001b[0m\u001b[0m]    1/3    \u001b[2m\u001b[0m\n",
      "\u001b[2K\u001b[2A\u001b[36m⠐\u001b[0m updating lock-file   [00:00:04] [\u001b[38;5;11m━━━━━━━━━━━━━╾\u001b[37m\u001b[2m──────────────────────────\u001b[0m\u001b[0m]    1/3    \u001b[2m\u001b[0m\n",
      "\u001b[2K\u001b[2A\u001b[36m⠒\u001b[0m updating lock-file   [00:00:04] [\u001b[38;5;11m━━━━━━━━━━━━━╾\u001b[37m\u001b[2m──────────────────────────\u001b[0m\u001b[0m]    1/3    \u001b[2m\u001b[0m\n",
      "\u001b[2K\u001b[2A\u001b[36m⠓\u001b[0m updating lock-file   [00:00:04] [\u001b[38;5;11m━━━━━━━━━━━━━╾\u001b[37m\u001b[2m──────────────────────────\u001b[0m\u001b[0m]    1/3    \u001b[2m\u001b[0m\n",
      "\u001b[2K\u001b[2A\u001b[36m⠋\u001b[0m updating lock-file   [00:00:04] [\u001b[38;5;11m━━━━━━━━━━━━━╾\u001b[37m\u001b[2m──────────────────────────\u001b[0m\u001b[0m]    1/3    \u001b[2m\u001b[0m\n",
      "\u001b[2K\u001b[2A\u001b[36m⠉\u001b[0m updating lock-file   [00:00:04] [\u001b[38;5;11m━━━━━━━━━━━━━╾\u001b[37m\u001b[2m──────────────────────────\u001b[0m\u001b[0m]    1/3    \u001b[2m\u001b[0m\n",
      "\u001b[2K\u001b[2A\u001b[36m⠈\u001b[0m updating lock-file   [00:00:04] [\u001b[38;5;11m━━━━━━━━━━━━━╾\u001b[37m\u001b[2m──────────────────────────\u001b[0m\u001b[0m]    1/3    \u001b[2m\u001b[0m\n",
      "\u001b[2K\u001b[2A\u001b[36m⠈\u001b[0m updating lock-file   [00:00:04] [\u001b[38;5;11m━━━━━━━━━━━━━╾\u001b[37m\u001b[2m──────────────────────────\u001b[0m\u001b[0m]    1/3    \u001b[2m\u001b[0m\n",
      "\u001b[2K\u001b[2A\u001b[36m⠁\u001b[0m updating lock-file   [00:00:04] [\u001b[38;5;11m━━━━━━━━━━━━━╾\u001b[37m\u001b[2m──────────────────────────\u001b[0m\u001b[0m]    1/3    \u001b[2m\u001b[0m\n",
      "\u001b[2K\u001b[2A\u001b[36m⠁\u001b[0m updating lock-file   [00:00:04] [\u001b[38;5;11m━━━━━━━━━━━━━╾\u001b[37m\u001b[2m──────────────────────────\u001b[0m\u001b[0m]    1/3    \u001b[2m\u001b[0m\n",
      "\u001b[2K\u001b[2A\u001b[36m⠁\u001b[0m updating lock-file   [00:00:04] [\u001b[38;5;11m━━━━━━━━━━━━━╾\u001b[37m\u001b[2m──────────────────────────\u001b[0m\u001b[0m]    1/3    \u001b[2m\u001b[0m\n",
      "\u001b[2K\u001b[2A\u001b[36m⠉\u001b[0m updating lock-file   [00:00:04] [\u001b[38;5;11m━━━━━━━━━━━━━╾\u001b[37m\u001b[2m──────────────────────────\u001b[0m\u001b[0m]    1/3    \u001b[2m\u001b[0m\n",
      "\u001b[2K\u001b[2A\u001b[36m⠙\u001b[0m updating lock-file   [00:00:04] [\u001b[38;5;11m━━━━━━━━━━━━━╾\u001b[37m\u001b[2m──────────────────────────\u001b[0m\u001b[0m]    1/3    \u001b[2m\u001b[0m\n",
      "\u001b[2K\u001b[32m⠁\u001b[0m updating pypi packages in '\u001b[35mdefault\u001b[0m'                                      ──────────────\u001b[0m\u001b[0m]    1/3    \u001b[2m\u001b[0m\u001b[1A\n",
      "\u001b[2K\u001b[1A\u001b[32m⠉\u001b[0m updating pypi packages in '\u001b[35mdefault\u001b[0m'm────────────────────\u001b[0m\u001b[0m]    0/7    \u001b[2m           \u001b[0m\u001b[1A\n",
      "\u001b[2K\u001b[1A\u001b[32m⠉\u001b[0m updating pypi packages in '\u001b[35mdefault\u001b[0m'm────────────────────\u001b[0m\u001b[0m]    0/7    \u001b[2mfonttools (\u001b[0m\u001b[1A\n",
      "\u001b[2K\u001b[1A\u001b[32m⠉\u001b[0m updating pypi packages in '\u001b[35mdefault\u001b[0m'37m\u001b[2m──────────────\u001b[0m\u001b[0m]    2/7    \u001b[2mfonttools (\u001b[0m\u001b[1A\n",
      "\u001b[2K\u001b[1A\u001b[32m⠙\u001b[0m updating pypi packages in '\u001b[35mdefault\u001b[0m'━\u001b[37m\u001b[2m───────────\u001b[0m\u001b[0m]    3/7    \u001b[2mfonttools (\u001b[0m\u001b[1A\n",
      "\u001b[2K\u001b[1A\u001b[32m⠚\u001b[0m updating pypi packages in '\u001b[35mdefault\u001b[0m'━━━╾\u001b[37m\u001b[2m────────\u001b[0m\u001b[0m]    4/7    \u001b[2mfonttools (\u001b[0m\u001b[1A\n",
      "\u001b[2K\u001b[1A\u001b[32m⠚\u001b[0m updating pypi packages in '\u001b[35mdefault\u001b[0m'━━━╾\u001b[37m\u001b[2m────────\u001b[0m\u001b[0m]    4/7    \u001b[2mfonttools (\u001b[0m\u001b[1A\n",
      "\u001b[2K\u001b[1A\u001b[32m⠒\u001b[0m updating pypi packages in '\u001b[35mdefault\u001b[0m'━━━╾\u001b[37m\u001b[2m────────\u001b[0m\u001b[0m]    4/7    \u001b[2mfonttools (\u001b[0m\u001b[1A\n",
      "\u001b[2K\u001b[1A\u001b[32m⠒\u001b[0m updating pypi packages in '\u001b[35mdefault\u001b[0m'━━━╾\u001b[37m\u001b[2m────────\u001b[0m\u001b[0m]    4/7    \u001b[2mfonttools (\u001b[0m\u001b[1A\n",
      "\u001b[2K\u001b[1A\u001b[32m⠂\u001b[0m updating pypi packages in '\u001b[35mdefault\u001b[0m'━━━╾\u001b[37m\u001b[2m────────\u001b[0m\u001b[0m]    4/7    \u001b[2mfonttools (\u001b[0m\u001b[1A\n",
      "\u001b[2K\u001b[1A\u001b[32m⠂\u001b[0m updating pypi packages in '\u001b[35mdefault\u001b[0m'━━━╾\u001b[37m\u001b[2m────────\u001b[0m\u001b[0m]    4/7    \u001b[2mfonttools (\u001b[0m\u001b[1A\n",
      "\u001b[2K\u001b[1A\u001b[32m⠂\u001b[0m updating pypi packages in '\u001b[35mdefault\u001b[0m'━━━━━━╾\u001b[37m\u001b[2m─────\u001b[0m\u001b[0m]    5/7    \u001b[2mmatplotlib \u001b[0m\u001b[1A\n",
      "\u001b[2K\u001b[1A\u001b[32m⠂\u001b[0m updating pypi packages in '\u001b[35mdefault\u001b[0m'━━━━━━━━━╾\u001b[37m\u001b[2m──\u001b[0m\u001b[0m]    6/7    \u001b[2mmatplotlib \u001b[0m\u001b[1A\n"
     ]
    },
    {
     "name": "stdout",
     "output_type": "stream",
     "text": [
      "\u001b[2K\u001b[1A\u001b[32m⠒\u001b[0m updating pypi packages in '\u001b[35mdefault\u001b[0m'━━━━━━━━━╾\u001b[37m\u001b[2m──\u001b[0m\u001b[0m]    6/7    \u001b[2mmatplotlib \u001b[0m\u001b[1A\n",
      "\u001b[2K\u001b[32m⠒\u001b[0m updating pypi packages in '\u001b[35mdefault\u001b[0m'                                               2mmatplotlib \u001b[0m\u001b[1A\n",
      "\u001b[2K\u001b[32m✔ \u001b[0mAdded \u001b[1mmatplotlib\u001b[0mes in '\u001b[35mdefault\u001b[0m'                                           2m           \u001b[0m\u001b[1A\n",
      "Added these as \u001b[1mpypi-dependencies\u001b[0m.\n"
     ]
    }
   ],
   "source": [
    "!pixi add --pypi matplotlib"
   ]
  },
  {
   "cell_type": "code",
   "execution_count": 8,
   "id": "08a266b2",
   "metadata": {},
   "outputs": [
    {
     "name": "stderr",
     "output_type": "stream",
     "text": [
      "Matplotlib is building the font cache; this may take a moment.\n"
     ]
    },
    {
     "data": {
      "image/png": "[encoded data removed]",
      "text/plain": [
       "<Figure size 640x480 with 1 Axes>"
      ]
     },
     "metadata": {},
     "output_type": "display_data"
    }
   ],
   "source": [
    "import matplotlib.pyplot as plt\n",
    "\n",
    "# Data points for x and y values\n",
    "x = [1, 2, 3, 4, 5]\n",
    "y = [2, 3, 5, 7, 11]\n",
    "\n",
    "# Create a new figure\n",
    "plt.figure()\n",
    "\n",
    "# Plot the data with labels and title\n",
    "plt.plot(x, y, label='Linear function')\n",
    "plt.title('Example of Linear Graph')\n",
    "plt.xlabel('X-axis Label')\n",
    "plt.ylabel('Y-axis Label')\n",
    "\n",
    "# Add a legend to the plot\n",
    "plt.legend()\n",
    "\n",
    "# Display the graph\n",
    "plt.show()"
   ]
  }
 ],
 "metadata": {
  "kernelspec": {
   "display_name": "Python 3 (ipykernel)",
   "language": "python",
   "name": "python3"
  },
  "language_info": {
   "codemirror_mode": {
    "name": "ipython",
    "version": 3
   },
   "file_extension": ".py",
   "mimetype": "text/x-python",
   "name": "python",
   "nbconvert_exporter": "python",
   "pygments_lexer": "ipython3",
   "version": "3.11.9"
  }
 },
 "nbformat": 4,
 "nbformat_minor": 5
}
