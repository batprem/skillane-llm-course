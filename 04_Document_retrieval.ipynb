{
 "cells": [
  {
   "cell_type": "code",
   "execution_count": 105,
   "id": "0625bafc",
   "metadata": {},
   "outputs": [
    {
     "name": "stdout",
     "output_type": "stream",
     "text": [
      "all-minilm:latest\n"
     ]
    }
   ],
   "source": [
    "import ollama\n",
    "\n",
    "EMBEDED_MODEL = \"all-minilm:latest\"\n",
    "ollama.pull(EMBEDED_MODEL)\n",
    "_ = [\n",
    "    print(model[\"name\"])\n",
    "    for model in ollama.list()[\"models\"]\n",
    "    if model[\"name\"].startswith(\"all-minilm\")\n",
    "]\n",
    "\n",
    "\n",
    "def embed(prompt: str) -> list[float]:\n",
    "    \"\"\"Embed a text into a vector.\n",
    "    \"\"\"\n",
    "    return ollama.embeddings(\n",
    "        model=EMBEDED_MODEL,\n",
    "        prompt=prompt,\n",
    "    )[\"embedding\"]\n"
   ]
  },
  {
   "cell_type": "markdown",
   "id": "ecdcc8af",
   "metadata": {},
   "source": [
    "# ทดลองทำ Vector embedding"
   ]
  },
  {
   "cell_type": "code",
   "execution_count": 106,
   "id": "0b27f4d4",
   "metadata": {},
   "outputs": [
    {
     "name": "stdout",
     "output_type": "stream",
     "text": [
      "Text: Hello world!\n",
      "Length vector: 384\n",
      "Embedded: -0.10963227599859238, 0.13532641530036926, -0.0036588571965694427, 0.06237631291151047, -0.20462030172348022, -0.6458368301391602, 0.2243037223815918, -0.11236012727022171, -0.31714504957199097, 0.13018758594989777, ...\n"
     ]
    }
   ],
   "source": [
    "text = \"Hello world!\"\n",
    "embedded_text = embed(text)\n",
    "vector_length = len(embedded_text)\n",
    "\n",
    "print(f\"Text: {text}\")\n",
    "print(f\"Length vector: {vector_length}\")\n",
    "print(f\"Embedded: {', '.join([str(e) for e in embedded_text[:10]])}, ...\")"
   ]
  },
  {
   "cell_type": "markdown",
   "id": "1eae1358",
   "metadata": {},
   "source": [
    "#  เปรียบเทียบระยะห่างระหว่าง Vector ด้วย Euclidean distance"
   ]
  },
  {
   "cell_type": "code",
   "execution_count": 107,
   "id": "f42e087d",
   "metadata": {},
   "outputs": [
    {
     "name": "stdout",
     "output_type": "stream",
     "text": [
      "The distance between:\n",
      "\"I'm going to have lunch\"\n",
      "and\n",
      "\"I'm going to have dinner\"\n",
      "is 2.9729728622463747\n",
      "----------------\n",
      "\n",
      "The distance between:\n",
      "\"I'm going to have lunch\"\n",
      "and\n",
      "\"I want to go to Thailand this holiday\"\n",
      "is 6.982158763398947\n",
      "----------------\n",
      "\n",
      "The distance between:\n",
      "\"I'm going to have dinner\"\n",
      "and\n",
      "\"I want to go to Thailand this holiday\"\n",
      "is 7.226857975481565\n",
      "----------------\n",
      "\n"
     ]
    }
   ],
   "source": [
    "import numpy as np\n",
    "from scipy.spatial.distance import euclidean\n",
    "\n",
    "texts = [\n",
    "    \"I'm going to have lunch\",\n",
    "    \"I'm going to have dinner\",\n",
    "    \"I want to go to Thailand this holiday\",\n",
    "]\n",
    "\n",
    "\n",
    "for i in range(len(texts)):\n",
    "    for j in range(i+1, len(texts)):\n",
    "        text_1 = texts[i]\n",
    "        text_2 = texts[j]\n",
    "        print(f\"\"\"The distance between:\n",
    "\"{text_1}\"\n",
    "and\n",
    "\"{text_2}\"\n",
    "is {euclidean(embed(text_1), embed(text_2))}\n",
    "----------------\n",
    "\"\"\")\n"
   ]
  },
  {
   "cell_type": "code",
   "execution_count": 108,
   "id": "ac18e420",
   "metadata": {},
   "outputs": [],
   "source": [
    "import pandas as pd\n",
    "\n",
    "\n",
    "movies_df = pd.read_csv(\"tmdb_5000_movies.csv\")[[\"title\", \"overview\"]]"
   ]
  },
  {
   "cell_type": "code",
   "execution_count": 109,
   "id": "ac941c25",
   "metadata": {},
   "outputs": [
    {
     "data": {
      "text/html": [
       "<div>\n",
       "<style scoped>\n",
       "    .dataframe tbody tr th:only-of-type {\n",
       "        vertical-align: middle;\n",
       "    }\n",
       "\n",
       "    .dataframe tbody tr th {\n",
       "        vertical-align: top;\n",
       "    }\n",
       "\n",
       "    .dataframe thead th {\n",
       "        text-align: right;\n",
       "    }\n",
       "</style>\n",
       "<table border=\"1\" class=\"dataframe\">\n",
       "  <thead>\n",
       "    <tr style=\"text-align: right;\">\n",
       "      <th></th>\n",
       "      <th>title</th>\n",
       "      <th>overview</th>\n",
       "    </tr>\n",
       "  </thead>\n",
       "  <tbody>\n",
       "    <tr>\n",
       "      <th>0</th>\n",
       "      <td>Avatar</td>\n",
       "      <td>In the 22nd century, a paraplegic Marine is di...</td>\n",
       "    </tr>\n",
       "    <tr>\n",
       "      <th>1</th>\n",
       "      <td>Pirates of the Caribbean: At World's End</td>\n",
       "      <td>Captain Barbossa, long believed to be dead, ha...</td>\n",
       "    </tr>\n",
       "    <tr>\n",
       "      <th>2</th>\n",
       "      <td>Spectre</td>\n",
       "      <td>A cryptic message from Bond’s past sends him o...</td>\n",
       "    </tr>\n",
       "    <tr>\n",
       "      <th>3</th>\n",
       "      <td>The Dark Knight Rises</td>\n",
       "      <td>Following the death of District Attorney Harve...</td>\n",
       "    </tr>\n",
       "    <tr>\n",
       "      <th>4</th>\n",
       "      <td>John Carter</td>\n",
       "      <td>John Carter is a war-weary, former military ca...</td>\n",
       "    </tr>\n",
       "  </tbody>\n",
       "</table>\n",
       "</div>"
      ],
      "text/plain": [
       "                                      title  \\\n",
       "0                                    Avatar   \n",
       "1  Pirates of the Caribbean: At World's End   \n",
       "2                                   Spectre   \n",
       "3                     The Dark Knight Rises   \n",
       "4                               John Carter   \n",
       "\n",
       "                                            overview  \n",
       "0  In the 22nd century, a paraplegic Marine is di...  \n",
       "1  Captain Barbossa, long believed to be dead, ha...  \n",
       "2  A cryptic message from Bond’s past sends him o...  \n",
       "3  Following the death of District Attorney Harve...  \n",
       "4  John Carter is a war-weary, former military ca...  "
      ]
     },
     "execution_count": 109,
     "metadata": {},
     "output_type": "execute_result"
    }
   ],
   "source": [
    "movies_df.head(5)"
   ]
  },
  {
   "cell_type": "code",
   "execution_count": 110,
   "id": "6cadd193",
   "metadata": {},
   "outputs": [
    {
     "data": {
      "text/plain": [
       "<DocList[Movie] (length=4800)>"
      ]
     },
     "execution_count": 110,
     "metadata": {},
     "output_type": "execute_result"
    }
   ],
   "source": [
    "# https://github.com/jina-ai/vectordb/\n",
    "from docarray import BaseDoc\n",
    "from docarray.typing import NdArray\n",
    "from docarray import DocList\n",
    "import numpy as np\n",
    "import pandas as pd\n",
    "from vectordb import InMemoryExactNNVectorDB, HNSWVectorDB\n",
    "import shutil\n",
    "\n",
    "class Movie(BaseDoc):\n",
    "    title: str = \"\"\n",
    "    overview: str = \"\"\n",
    "    embedding: NdArray[vector_length]\n",
    "\n",
    "\n",
    "try:\n",
    "    shutil.rmtree(\"./workspace_path\")\n",
    "except FileNotFoundError:\n",
    "    pass\n",
    "# Specify your workspace path\n",
    "db = HNSWVectorDB[Movie](workspace=\"./workspace_path\")\n",
    "\n",
    "# Index a list of documents with random embeddings\n",
    "doc_list = []\n",
    "for movie in movies_df.iloc:\n",
    "    title = movie[\"title\"]\n",
    "    overview = movie[\"overview\"]\n",
    "    if pd.isna(overview):\n",
    "        continue\n",
    "    embedding = embed(overview)\n",
    "    movie_doc = Movie(\n",
    "        title=title,\n",
    "        overview=overview,\n",
    "        embedding=embedding\n",
    "    )\n",
    "    doc_list.append(movie_doc)\n",
    "\n",
    "db.index(inputs=DocList[Movie](doc_list))"
   ]
  },
  {
   "cell_type": "code",
   "execution_count": 89,
   "id": "8d94e778",
   "metadata": {},
   "outputs": [
    {
     "name": "stdout",
     "output_type": "stream",
     "text": [
      "Title: 3 Days to Kill\n",
      "Overview: A dangerous international spy is determined to give up his high stakes life to finally build a closer relationship with his estranged wife and daughter. But first, he must complete one last mission - even if it means juggling the two toughest assignments yet: hunting down the world's most ruthless terrorist and looking after his teenage daughter for the first time in ten years, while his wife is out of town.\n",
      "----------------\n",
      "Title: Act of Valor\n",
      "Overview: When a covert mission to rescue a kidnapped CIA operative uncovers a chilling plot, an elite, highly trained U.S. SEAL team speeds to hotspots around the globe, racing against the clock to stop a deadly terrorist attack.\n",
      "----------------\n",
      "Title: Mission: Impossible\n",
      "Overview: When Ethan Hunt, the leader of a crack espionage team whose perilous operation has gone awry with no explanation, discovers that a mole has penetrated the CIA, he's surprised to learn that he's the No. 1 suspect. To clear his name, Hunt now must ferret out the real double agent and, in the process, even the score.\n",
      "----------------\n",
      "Title: Cypher\n",
      "Overview: An unsuspecting, disenchanted man finds himself working as a spy in the dangerous, high-stakes world of corporate espionage. Quickly getting way over-his-head, he teams up with a mysterious femme fatale.\n",
      "----------------\n",
      "Title: Invasion U.S.A.\n",
      "Overview: A one-man army comes to the rescue of the United States when a spy attempts an invasion.\n",
      "----------------\n",
      "Title: The November Man\n",
      "Overview: An ex- CIA operative is brought back in on a very personal mission and finds himself pitted against his former pupil in a deadly game involving high level CIA officials and the Russian president-elect.\n",
      "----------------\n",
      "Title: Body of Lies\n",
      "Overview: The CIA’s hunt is on for the mastermind of a wave of terrorist attacks. Roger Ferris is the agency’s man on the ground, moving from place to place, scrambling to stay ahead of ever-shifting events. An eye in the sky – a satellite link – watches Ferris.  At the other end of that real-time link is the CIA’s Ed Hoffman, strategizing events from thousands of miles away. And as Ferris nears the target, he discovers trust can be just as dangerous as it is necessary for survival.\n",
      "----------------\n",
      "Title: Restless\n",
      "Overview: A young woman finds out that her mother worked as a spy for the British Secret Service during World War II and has been on the run ever since.\n",
      "----------------\n",
      "Title: Tinker Tailor Soldier Spy\n",
      "Overview: Recently-retired MI6 agent, George Smiley is doing his best to adjust to a life outside the secret service until a disgraced agent reappears with information concerning a mole at the heart of the service. Smiley is drawn back into the murky field of espionage, tasked with investigating which of his trusted former colleagues has chosen to betray him and their country. Smiley narrows his search to four suspects – all experienced, skilled and successful agents – but past histories, rivalries and friendships make it far from easy to pinpoint the man who is eating away at the heart of the British establishment.\n",
      "----------------\n",
      "Title: Duplicity\n",
      "Overview: Two romantically-engaged corporate spies team up to manipulate a corporate race to corner the market on a medical innovation that will reap huge profits and enable them to lead an extravagant lifestyle together.\n",
      "----------------\n"
     ]
    }
   ],
   "source": [
    "query = \"A spy goes on a mission\"\n",
    "query_doc = Movie(embedding=embed(query))\n",
    "search_results = db.search(inputs=DocList[Movie]([query_doc]), limit=10)\n",
    "for result in search_results[0].matches:\n",
    "    print(f\"Title: {result.title}\")\n",
    "    print(f\"Overview: {result.overview}\")\n",
    "    print(\"-\" * 16)"
   ]
  },
  {
   "cell_type": "code",
   "execution_count": 97,
   "id": "f823dddf",
   "metadata": {},
   "outputs": [
    {
     "name": "stdout",
     "output_type": "stream",
     "text": [
      "Title: 3 Days to Kill\n",
      "Overview: A dangerous international spy is determined to give up his high stakes life to finally build a closer relationship with his estranged wife and daughter. But first, he must complete one last mission - even if it means juggling the two toughest assignments yet: hunting down the world's most ruthless terrorist and looking after his teenage daughter for the first time in ten years, while his wife is out of town.\n",
      "----------------\n",
      "Title: Act of Valor\n",
      "Overview: When a covert mission to rescue a kidnapped CIA operative uncovers a chilling plot, an elite, highly trained U.S. SEAL team speeds to hotspots around the globe, racing against the clock to stop a deadly terrorist attack.\n",
      "----------------\n",
      "Title: The Living Daylights\n",
      "Overview: James Bond helps a Russian General escape into the west. He soon finds out that the KGB wants to kill him for helping the General. A little while later the General is kidnapped from the Secret Service leading 007 to be suspicious.\n",
      "----------------\n"
     ]
    }
   ],
   "source": [
    "def get_movie_contexts(prompt: str, limit: int = 5) -> list[Movie]:\n",
    "    query_doc = Movie(embedding=embed(prompt))\n",
    "    search_results = db.search(inputs=DocList[Movie]([query_doc]), limit=limit)\n",
    "    return list(search_results[0].matches)\n",
    "\n",
    "\n",
    "question = \"Please recommend some movies about a spy going on a mission\"\n",
    "contexts = get_movie_context(question, limit=3)\n",
    "for result in contexts:\n",
    "    print(f\"Title: {result.title}\")\n",
    "    print(f\"Overview: {result.overview}\")\n",
    "    print(\"-\" * 16)"
   ]
  },
  {
   "cell_type": "code",
   "execution_count": 101,
   "id": "a274292f",
   "metadata": {},
   "outputs": [
    {
     "name": "stdout",
     "output_type": "stream",
     "text": [
      "\n",
      "# Instruction\n",
      "Answer user's question using given contexts\n",
      "\n",
      "# Context:\n",
      "Title: 3 Days to Kill\n",
      "Overview: A dangerous international spy is determined to give up his high stakes life to finally build a closer relationship with his estranged wife and daughter. But first, he must complete one last mission - even if it means juggling the two toughest assignments yet: hunting down the world's most ruthless terrorist and looking after his teenage daughter for the first time in ten years, while his wife is out of town.\n",
      "----------------Title: Act of Valor\n",
      "Overview: When a covert mission to rescue a kidnapped CIA operative uncovers a chilling plot, an elite, highly trained U.S. SEAL team speeds to hotspots around the globe, racing against the clock to stop a deadly terrorist attack.\n",
      "----------------Title: The Living Daylights\n",
      "Overview: James Bond helps a Russian General escape into the west. He soon finds out that the KGB wants to kill him for helping the General. A little while later the General is kidnapped from the Secret Service leading 007 to be suspicious.\n",
      "----------------\n",
      "\n",
      "# Question\n",
      "Please recommend some movies about a spy going on a mission\n",
      "\n"
     ]
    }
   ],
   "source": [
    "def chat(prompt: str, stream: bool = True) -> str:\n",
    "    response = ollama.chat(\n",
    "        model=\"qwen2:7b-instruct-q6_K\",\n",
    "        messages=[\n",
    "            {\"role\": \"user\", \"content\": prompt},\n",
    "        ],\n",
    "        stream=stream,\n",
    "    )\n",
    "    \n",
    "    if stream:\n",
    "        results = \"\"\n",
    "        for r in response:\n",
    "            c = r[\"message\"][\"content\"]\n",
    "            print(c, end=\"\")\n",
    "            results += c\n",
    "        return results\n",
    "    else:\n",
    "        return response[\"message\"][\"content\"]\n",
    "\n",
    "    \n",
    "TEMPLATE = \"\"\"\n",
    "# Instruction\n",
    "Answer user's question using given contexts\n",
    "\n",
    "# Context:\n",
    "{context}\n",
    "\n",
    "# Question\n",
    "{question}\n",
    "\"\"\"\n",
    "\n",
    "def build_prompt(question: str) -> str:\n",
    "    movie_contexts = get_movie_contexts(question, limit=3)\n",
    "    movie_contexts_prompt = \"\"\n",
    "    for result in movie_contexts:\n",
    "        movie_contexts_prompt += (f\"Title: {result.title}\\n\")\n",
    "        movie_contexts_prompt += (f\"Overview: {result.overview}\\n\")\n",
    "        movie_contexts_prompt += (\"-\" * 16)\n",
    "    return TEMPLATE.format(context=movie_contexts_prompt, question=question)\n",
    "\n",
    "prompt = build_prompt(question)\n",
    "print(prompt)"
   ]
  },
  {
   "cell_type": "code",
   "execution_count": 103,
   "id": "64ec5774",
   "metadata": {},
   "outputs": [
    {
     "name": "stdout",
     "output_type": "stream",
     "text": [
      "Based on your interest in movies featuring spies going on missions, here are three recommendations:\n",
      "\n",
      "1. **\"3 Days to Kill\"** - In this film, an international spy decides to retire from his high-stakes life to reconnect with his family but must complete one last mission.\n",
      "\n",
      "2. **\"Act of Valor\"** - This movie centers around an elite U.S. SEAL team that embarks on a covert operation to rescue a CIA operative and thwart a deadly terrorist attack.\n",
      "\n",
      "3. **\"The Living Daylights\"** - James Bond helps a Russian General escape from the Soviet Union, which leads him into a world of danger as he suspects foul play by both the KGB and his own agency.\n",
      "\n",
      "These films all feature intense spy missions and thrilling action sequences that you might enjoy."
     ]
    },
    {
     "data": {
      "text/markdown": [
       "Based on your interest in movies featuring spies going on missions, here are three recommendations:\n",
       "\n",
       "1. **\"3 Days to Kill\"** - In this film, an international spy decides to retire from his high-stakes life to reconnect with his family but must complete one last mission.\n",
       "\n",
       "2. **\"Act of Valor\"** - This movie centers around an elite U.S. SEAL team that embarks on a covert operation to rescue a CIA operative and thwart a deadly terrorist attack.\n",
       "\n",
       "3. **\"The Living Daylights\"** - James Bond helps a Russian General escape from the Soviet Union, which leads him into a world of danger as he suspects foul play by both the KGB and his own agency.\n",
       "\n",
       "These films all feature intense spy missions and thrilling action sequences that you might enjoy."
      ],
      "text/plain": [
       "<IPython.core.display.Markdown object>"
      ]
     },
     "execution_count": 103,
     "metadata": {},
     "output_type": "execute_result"
    }
   ],
   "source": [
    "from IPython.display import Markdown\n",
    "\n",
    "Markdown(chat(prompt, stream=True))"
   ]
  },
  {
   "cell_type": "code",
   "execution_count": 104,
   "id": "6d0d275e",
   "metadata": {},
   "outputs": [
    {
     "name": "stdout",
     "output_type": "stream",
     "text": [
      "Yes, I can recommend a few romantic comedies for you:\n",
      "\n",
      "1. **Title: 16 to Life**  \n",
      "   Overview: This is a small-town romantic comedy about a teenager dealing with sexual inexperience on his birthday.\n",
      "\n",
      "2. **Title: Midnight in Paris**  \n",
      "   Overview: A romantic comedy involving a family traveling to the French capital, focusing on an engaged couple who grapples with the idea of whether a different life might be better for them.\n",
      "\n",
      "3. **Title: About Last Night**  \n",
      "   Overview: A contemporary romantic comedy that follows new love stories between two couples as they navigate their relationships from the initial stages to more serious commitments in real-life scenarios.\n",
      "\n",
      "These movies offer various perspectives on romance and are likely to provide an enjoyable viewing experience based on your interest in romantic comedies."
     ]
    },
    {
     "data": {
      "text/markdown": [
       "Yes, I can recommend a few romantic comedies for you:\n",
       "\n",
       "1. **Title: 16 to Life**  \n",
       "   Overview: This is a small-town romantic comedy about a teenager dealing with sexual inexperience on his birthday.\n",
       "\n",
       "2. **Title: Midnight in Paris**  \n",
       "   Overview: A romantic comedy involving a family traveling to the French capital, focusing on an engaged couple who grapples with the idea of whether a different life might be better for them.\n",
       "\n",
       "3. **Title: About Last Night**  \n",
       "   Overview: A contemporary romantic comedy that follows new love stories between two couples as they navigate their relationships from the initial stages to more serious commitments in real-life scenarios.\n",
       "\n",
       "These movies offer various perspectives on romance and are likely to provide an enjoyable viewing experience based on your interest in romantic comedies."
      ],
      "text/plain": [
       "<IPython.core.display.Markdown object>"
      ]
     },
     "execution_count": 104,
     "metadata": {},
     "output_type": "execute_result"
    }
   ],
   "source": [
    "from IPython.display import Markdown\n",
    "\n",
    "\n",
    "prompt = build_prompt(\"I want to watch a romantic comedy movie. Do you have any recommendation?\")\n",
    "Markdown(chat(prompt, stream=True))"
   ]
  }
 ],
 "metadata": {
  "kernelspec": {
   "display_name": "Python 3 (ipykernel)",
   "language": "python",
   "name": "python3"
  },
  "language_info": {
   "codemirror_mode": {
    "name": "ipython",
    "version": 3
   },
   "file_extension": ".py",
   "mimetype": "text/x-python",
   "name": "python",
   "nbconvert_exporter": "python",
   "pygments_lexer": "ipython3",
   "version": "3.11.9"
  }
 },
 "nbformat": 4,
 "nbformat_minor": 5
}
